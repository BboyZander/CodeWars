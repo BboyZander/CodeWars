{
 "cells": [
  {
   "cell_type": "code",
   "execution_count": 63,
   "metadata": {},
   "outputs": [],
   "source": [
    "# считает сумму элементов массива за исключением максимального и минимального\n",
    "def sum_array(arr):\n",
    "    if arr == [] or arr == None or len(arr) < 3:\n",
    "        return 0\n",
    "    arr.remove(min(arr))\n",
    "    arr.remove(max(arr))\n",
    "    return sum(arr)"
   ]
  },
  {
   "cell_type": "code",
   "execution_count": 64,
   "metadata": {},
   "outputs": [],
   "source": [
    "#удаляем из строки гласные буквы\n",
    "def disemvowel(string):\n",
    "    res = ''\n",
    "    vowels = 'aeioAEIO'\n",
    "    for i in string:\n",
    "        if i not in vowels:\n",
    "            res += i\n",
    "    return res"
   ]
  },
  {
   "cell_type": "code",
   "execution_count": 60,
   "metadata": {},
   "outputs": [
    {
     "data": {
      "text/plain": [
       "'hll'"
      ]
     },
     "execution_count": 60,
     "metadata": {},
     "output_type": "execute_result"
    }
   ],
   "source": [
    "disemvowel('helloO')"
   ]
  },
  {
   "cell_type": "code",
   "execution_count": 74,
   "metadata": {},
   "outputs": [],
   "source": [
    "def nb_year(p0, percent, aug, p):\n",
    "    percent /= 100\n",
    "    i = 0\n",
    "    while p0 < p:\n",
    "        p0 += p0*percent + aug\n",
    "        i+=1\n",
    "    return i"
   ]
  },
  {
   "cell_type": "code",
   "execution_count": 75,
   "metadata": {},
   "outputs": [
    {
     "data": {
      "text/plain": [
       "15"
      ]
     },
     "execution_count": 75,
     "metadata": {},
     "output_type": "execute_result"
    }
   ],
   "source": [
    "nb_year(1500, 5, 100, 5000)"
   ]
  },
  {
   "cell_type": "code",
   "execution_count": 66,
   "metadata": {},
   "outputs": [],
   "source": [
    "# маскирует в строке все символы знаком # за исключением последних четырех\n",
    "def maskify(cc):\n",
    "    if len(cc) < 5:\n",
    "        return cc\n",
    "    else:\n",
    "        \n",
    "        return cc.replace(cc[:-4], '#'*len(cc[:-4]))\n",
    "    \n",
    "def maskify_ver2(cc):\n",
    "        return cc if len(cc) < 5 else cc.replace(cc[:-4], '#'*len(cc[:-4]))    "
   ]
  },
  {
   "cell_type": "code",
   "execution_count": 22,
   "metadata": {},
   "outputs": [
    {
     "data": {
      "text/plain": [
       "'#######2344'"
      ]
     },
     "execution_count": 22,
     "metadata": {},
     "output_type": "execute_result"
    }
   ],
   "source": [
    "maskify('112123 2344')"
   ]
  },
  {
   "cell_type": "code",
   "execution_count": 24,
   "metadata": {},
   "outputs": [
    {
     "data": {
      "text/plain": [
       "'#######2344'"
      ]
     },
     "execution_count": 24,
     "metadata": {},
     "output_type": "execute_result"
    }
   ],
   "source": [
    "maskify('112123 2344')"
   ]
  },
  {
   "cell_type": "code",
   "execution_count": 67,
   "metadata": {},
   "outputs": [],
   "source": [
    "# возвращает количество раз, которое необходимо для того, чтобы получить однозначеное число при перемножении цифр в\n",
    "# исходном числе\n",
    "import functools\n",
    "\n",
    "\n",
    "def persistence(n):\n",
    "    times = 0\n",
    "\n",
    "    while n > 9:\n",
    "        n = functools.reduce(lambda x, y: x * y, [int(i) for i in str(n)])\n",
    "        times += 1\n",
    "\n",
    "    return times"
   ]
  },
  {
   "cell_type": "code",
   "execution_count": 33,
   "metadata": {},
   "outputs": [
    {
     "data": {
      "text/plain": [
       "3"
      ]
     },
     "execution_count": 33,
     "metadata": {},
     "output_type": "execute_result"
    }
   ],
   "source": [
    "persistence(39)"
   ]
  },
  {
   "cell_type": "code",
   "execution_count": 68,
   "metadata": {},
   "outputs": [],
   "source": [
    "# находит единственное отличное от остальных чисел в массиве по типу четное/нечетное\n",
    "def find_outlier(integers):\n",
    "    even = [num for num in integers if num%2 == 0]\n",
    "    odd = [num for num in integers if num not in even]\n",
    "    return even[0] if len(even) == 1 else odd[0]"
   ]
  },
  {
   "cell_type": "code",
   "execution_count": 69,
   "metadata": {},
   "outputs": [],
   "source": [
    "# переворачивает в строке все слова, длина которых > 4\n",
    "def spin_words(sentence):\n",
    "    list_of_words = sentence.split(' ')\n",
    "    res_str = ''\n",
    "    for i in list_of_words:\n",
    "        if len(i) > 4:\n",
    "            res_str += i[::-1] + ' '\n",
    "        else:\n",
    "            res_str += i + ' '\n",
    "    return res_str.strip()"
   ]
  },
  {
   "cell_type": "code",
   "execution_count": 38,
   "metadata": {},
   "outputs": [
    {
     "data": {
      "text/plain": [
       "'wa ssSssa dd'"
      ]
     },
     "execution_count": 38,
     "metadata": {},
     "output_type": "execute_result"
    }
   ],
   "source": [
    "spin_words('wa assSss dd')"
   ]
  },
  {
   "cell_type": "code",
   "execution_count": 70,
   "metadata": {},
   "outputs": [],
   "source": [
    "# располагает слова в строке по возрастанию согласно цифрам, которые находятся внутри слов\n",
    "def order(sentence):\n",
    "    array = sentence.split()\n",
    "\n",
    "    result = ''\n",
    "\n",
    "    new_dict = {'1':\"NONE\", '2':\"NONE\", '3':\"NONE\", '4':\"NONE\", '5':\"NONE\", \n",
    "                '6':\"NONE\", '7':\"NONE\", '8':\"NONE\", '9':\"NONE\"}\n",
    "    \n",
    "    for word in array:\n",
    "        for char in word:\n",
    "            if char.isdigit() and int(char) <= 9:\n",
    "                new_dict[char] = word\n",
    "                \n",
    "    sorted_dict = sorted(new_dict.items())\n",
    "    \n",
    "    for s in sorted_dict:\n",
    "        if s[1] != 'NONE':\n",
    "            result += s[1] + ' '\n",
    "    \n",
    "    return result[:-1]"
   ]
  },
  {
   "cell_type": "code",
   "execution_count": 2,
   "metadata": {},
   "outputs": [
    {
     "data": {
      "text/plain": [
       "'Thi1s is2 3a T4est'"
      ]
     },
     "execution_count": 2,
     "metadata": {},
     "output_type": "execute_result"
    }
   ],
   "source": [
    "order(\"is2 Thi1s T4est 3a\")"
   ]
  },
  {
   "cell_type": "code",
   "execution_count": 72,
   "metadata": {},
   "outputs": [],
   "source": [
    "# Если символ в строке повторяется больше 1 раза, заменяет его на ) иначе на (\n",
    "def duplicate_encode(word):\n",
    "    res = ''\n",
    "    for char in word.lower():\n",
    "        if word.count(char) != 1:\n",
    "            res += ')'\n",
    "        else:\n",
    "            res += '('\n",
    "    return res"
   ]
  },
  {
   "cell_type": "code",
   "execution_count": 10,
   "metadata": {},
   "outputs": [
    {
     "data": {
      "text/plain": [
       "')))))))'"
      ]
     },
     "execution_count": 10,
     "metadata": {},
     "output_type": "execute_result"
    }
   ],
   "source": [
    "duplicate_encode('(())())')"
   ]
  },
  {
   "cell_type": "code",
   "execution_count": 73,
   "metadata": {},
   "outputs": [],
   "source": [
    "# возвращает сумму цифр числа до тех пор, пока она не станет однозначным числом\n",
    "def digital_root(n):\n",
    "    if len(str(n)) == 1:\n",
    "        return n\n",
    "    else:\n",
    "        sum = 0\n",
    "        for i in str(n):\n",
    "            sum += int(i)\n",
    "        return digital_root(sum)"
   ]
  },
  {
   "cell_type": "code",
   "execution_count": 74,
   "metadata": {},
   "outputs": [],
   "source": [
    "# возвращает индекс числа, которое отличается от всех остальных во входном списке\n",
    "def iq_test(numbers):\n",
    "    list_numbers = numbers.split(' ')\n",
    "    odd_list = [x for x in list_numbers if int(x)%2 != 0]\n",
    "    even_list = [x for x in list_numbers if x not in odd_list]\n",
    "    return list_numbers.index(odd_list[0])+1 if len(odd_list) == 1 else list_numbers.index(even_list[0])+1"
   ]
  },
  {
   "cell_type": "code",
   "execution_count": 49,
   "metadata": {},
   "outputs": [
    {
     "data": {
      "text/plain": [
       "3"
      ]
     },
     "execution_count": 49,
     "metadata": {},
     "output_type": "execute_result"
    }
   ],
   "source": [
    "iq_test(\"2 4 7 8 10\")"
   ]
  },
  {
   "cell_type": "code",
   "execution_count": 75,
   "metadata": {},
   "outputs": [],
   "source": [
    "# возвращает форматированную строку согласно правилу в зависимости от количества входных имен в списке\n",
    "def likes(names):\n",
    "    if names == []:\n",
    "        return 'no one likes this'\n",
    "    elif len(names) == 1:\n",
    "        return '{0} likes this'.format(names.pop())\n",
    "    elif len(names) == 2:\n",
    "        return '{0} and {1} likes this'.format(names.pop(0), names.pop(0))\n",
    "    elif len(names) == 3:\n",
    "        return '{0}, {1} and {2} like this'.format(names.pop(0), names.pop(0), names.pop(0))\n",
    "    else:\n",
    "        return '{0}, {1} and {2} others like this'.format(names.pop(0), names.pop(0), len(names))"
   ]
  },
  {
   "cell_type": "code",
   "execution_count": 62,
   "metadata": {},
   "outputs": [
    {
     "data": {
      "text/plain": [
       "'Zander and Pander likes this'"
      ]
     },
     "execution_count": 62,
     "metadata": {},
     "output_type": "execute_result"
    }
   ],
   "source": [
    "likes(['Zander', 'Pander'])"
   ]
  },
  {
   "cell_type": "code",
   "execution_count": 76,
   "metadata": {},
   "outputs": [],
   "source": [
    "# меняет строку из числа по установленным правилам:\n",
    "# 1) Разбивает число на элементы с шагом sz\n",
    "# 2) Если длина последнего элемента не равна длине шага - убираем его\n",
    "# 3) Если выполняется функция integer -> переворачиваем число иначе сдвигаем число на 1 символ вправа\n",
    "# 4) Соединяем полученные элементы\n",
    "\n",
    "def integer(num):\n",
    "    sum = 0\n",
    "    for element in str(num):\n",
    "        sum += int(element)**3\n",
    "    return sum%2 == 0\n",
    "    \n",
    "    \n",
    "def revrot(strng, sz):\n",
    "    if sz <= 0 or strng == '' or sz > len(strng):\n",
    "        return ''\n",
    "    array = [strng[x:x+sz] for x in range (0, len(strng), sz)]\n",
    "    if len(array[-1]) != sz:\n",
    "        array.pop()\n",
    "    \n",
    "    res = []\n",
    "    for i in array:\n",
    "        if integer(i):\n",
    "            i = i[::-1]\n",
    "            res.append(i)\n",
    "        else:\n",
    "            i = i[1:] + i[0]\n",
    "            res.append(i)\n",
    "\n",
    "    return ''.join(res)"
   ]
  },
  {
   "cell_type": "code",
   "execution_count": 120,
   "metadata": {},
   "outputs": [
    {
     "data": {
      "text/plain": [
       "'234561876549'"
      ]
     },
     "execution_count": 120,
     "metadata": {},
     "output_type": "execute_result"
    }
   ],
   "source": [
    "revrot(\"123456987654\", 6)"
   ]
  },
  {
   "cell_type": "code",
   "execution_count": 77,
   "metadata": {},
   "outputs": [],
   "source": [
    "# Сравнение двух массивов. True вслучае если элементы первого списка равны квадратам элементов второго списка\n",
    "def comp(array1, array2):\n",
    "    if array1 == None or array2 == None:\n",
    "        return False\n",
    "    else:\n",
    "        arr1 = sorted(array1)\n",
    "        arr2 = sorted([i**0.5 for i in array2])\n",
    "    \n",
    "    return arr1 == arr2"
   ]
  },
  {
   "cell_type": "code",
   "execution_count": 78,
   "metadata": {},
   "outputs": [],
   "source": [
    "# Находит индекс элемента по обе стороны от которого суммы оставшихся элементов равны\n",
    "def find_even_index(arr):\n",
    "    true = []\n",
    "    for i in range(len(arr)):\n",
    "        true.append(sum(arr[:i]) == sum(arr[i+1:]))\n",
    "    return true.index(True) if True in true else -1"
   ]
  },
  {
   "cell_type": "code",
   "execution_count": 46,
   "metadata": {},
   "outputs": [],
   "source": [
    "# возвращает n такое, что n^3 + (n-1)^3 + (n-2)^2 + ... + 1 = m\n",
    "def find_nb(m):\n",
    "    if 1 ** 3 == m:\n",
    "        return 1\n",
    "    else:\n",
    "        n = 2\n",
    "        volume = 1\n",
    "        while volume < m:\n",
    "            volume += n ** 3\n",
    "            if volume == m:\n",
    "                return n\n",
    "            else:\n",
    "                n += 1\n",
    "                continue\n",
    "        return -1"
   ]
  },
  {
   "cell_type": "code",
   "execution_count": 45,
   "metadata": {},
   "outputs": [],
   "source": [
    "# декодирует строку, убирая из нее все подстроки типа WUB\n",
    "def song_decoder(song):\n",
    "    return ' '.join([i for i in song.split('WUB') if i != ''])"
   ]
  },
  {
   "cell_type": "code",
   "execution_count": 47,
   "metadata": {},
   "outputs": [
    {
     "data": {
      "text/plain": [
       "45"
      ]
     },
     "execution_count": 47,
     "metadata": {},
     "output_type": "execute_result"
    }
   ],
   "source": [
    "find_nb(1071225)"
   ]
  },
  {
   "cell_type": "code",
   "execution_count": 60,
   "metadata": {},
   "outputs": [],
   "source": [
    "walk = ['e', 'w', 's', 'w', 'n', 's', 'n', 's', 'e', 'w']"
   ]
  },
  {
   "cell_type": "code",
   "execution_count": 66,
   "metadata": {},
   "outputs": [],
   "source": [
    "# функция возвращает True если длина пути = 10 и путник вернется в исходное положение \n",
    "#(движение в каждом направлении = 1)\n",
    "\n",
    "def isValidWalk(walk):\n",
    "    return len(walk) == 10 and walk.count('n') == walk.count('s') and walk.count('e') == walk.count('w')"
   ]
  },
  {
   "cell_type": "code",
   "execution_count": null,
   "metadata": {},
   "outputs": [],
   "source": []
  }
 ],
 "metadata": {
  "kernelspec": {
   "display_name": "Python 3",
   "language": "python",
   "name": "python3"
  },
  "language_info": {
   "codemirror_mode": {
    "name": "ipython",
    "version": 3
   },
   "file_extension": ".py",
   "mimetype": "text/x-python",
   "name": "python",
   "nbconvert_exporter": "python",
   "pygments_lexer": "ipython3",
   "version": "3.6.1"
  }
 },
 "nbformat": 4,
 "nbformat_minor": 2
}
